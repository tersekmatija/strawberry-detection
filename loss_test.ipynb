{
 "cells": [
  {
   "cell_type": "code",
   "execution_count": 1,
   "id": "5afebec5-901c-453d-9dd5-0e2659e78258",
   "metadata": {},
   "outputs": [],
   "source": [
    "from custom.utils.loss import *"
   ]
  },
  {
   "cell_type": "code",
   "execution_count": 2,
   "id": "8bf6ae48-4331-412b-83a7-a390ce93058f",
   "metadata": {},
   "outputs": [],
   "source": [
    "import torch"
   ]
  },
  {
   "cell_type": "code",
   "execution_count": null,
   "id": "6f8af2aa-dbaf-4af2-a913-c9b9a103f03e",
   "metadata": {},
   "outputs": [],
   "source": [
    "a = torch.rand()"
   ]
  }
 ],
 "metadata": {
  "kernelspec": {
   "display_name": "base",
   "language": "python",
   "name": "base"
  },
  "language_info": {
   "codemirror_mode": {
    "name": "ipython",
    "version": 3
   },
   "file_extension": ".py",
   "mimetype": "text/x-python",
   "name": "python",
   "nbconvert_exporter": "python",
   "pygments_lexer": "ipython3",
   "version": "3.8.10"
  }
 },
 "nbformat": 4,
 "nbformat_minor": 5
}
