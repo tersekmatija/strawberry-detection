{
 "cells": [
  {
   "cell_type": "code",
   "execution_count": 42,
   "id": "9ff4ca04-9928-4e79-83bd-b64629d33ec3",
   "metadata": {},
   "outputs": [],
   "source": [
    "import torch\n",
    "import torch.nn as nn\n",
    "import netron"
   ]
  },
  {
   "cell_type": "code",
   "execution_count": 40,
   "id": "4478c21a-8a13-4f8e-a9ed-95c261645f50",
   "metadata": {},
   "outputs": [
    {
     "name": "stdout",
     "output_type": "stream",
     "text": [
      "Collecting netron\n",
      "  Downloading netron-5.7.1-py2.py3-none-any.whl (1.4 MB)\n",
      "\u001b[2K     \u001b[38;2;114;156;31m━━━━━━━━━━━━━━━━━━━━━━━━━━━━━━━━━━━━━━━━\u001b[0m \u001b[32m1.4/1.4 MB\u001b[0m \u001b[31m5.9 MB/s\u001b[0m eta \u001b[36m0:00:00\u001b[0m MB/s\u001b[0m eta \u001b[36m0:00:01\u001b[0m:01\u001b[0m\n",
      "\u001b[?25hInstalling collected packages: netron\n",
      "Successfully installed netron-5.7.1\n",
      "\u001b[33mWARNING: You are using pip version 22.0.3; however, version 22.0.4 is available.\n",
      "You should consider upgrading via the '/home/matija/Luxonis/envs/base/bin/python -m pip install --upgrade pip' command.\u001b[0m\u001b[33m\n",
      "\u001b[0m"
     ]
    }
   ],
   "source": [
    "!pip install netron"
   ]
  },
  {
   "cell_type": "markdown",
   "id": "5b97d728-f6b9-450e-af73-2457e0ac5b63",
   "metadata": {},
   "source": [
    "## YOLOP"
   ]
  },
  {
   "cell_type": "code",
   "execution_count": 9,
   "id": "6919c36b-5af4-4017-9055-21bd87dade51",
   "metadata": {},
   "outputs": [],
   "source": [
    "def autopad(k, p=None):  # kernel, padding\n",
    "    # Pad to 'same'\n",
    "    if p is None:\n",
    "        p = k // 2 if isinstance(k, int) else [x // 2 for x in k]  # auto-pad\n",
    "    return p\n",
    "\n",
    "\n",
    "class Conv(nn.Module):\n",
    "    # Standard convolution\n",
    "    def __init__(self, c1, c2, k=1, s=1, p=None, g=1, act=True):  # ch_in, ch_out, kernel, stride, padding, groups\n",
    "        super(Conv, self).__init__()\n",
    "        self.conv = nn.Conv2d(c1, c2, k, s, autopad(k, p), groups=g, bias=False)\n",
    "        self.bn = nn.BatchNorm2d(c2)\n",
    "        try:\n",
    "            self.act = Hardswish() if act else nn.Identity()\n",
    "        except:\n",
    "            self.act = nn.Identity()\n",
    "\n",
    "    def forward(self, x):\n",
    "        return self.act(self.bn(self.conv(x)))\n",
    "\n",
    "    def fuseforward(self, x):\n",
    "        return self.act(self.conv(x))\n",
    "\n",
    "\n",
    "class Bottleneck(nn.Module):\n",
    "    # Standard bottleneck\n",
    "    def __init__(self, c1, c2, shortcut=True, g=1, e=0.5):  # ch_in, ch_out, shortcut, groups, expansion\n",
    "        super(Bottleneck, self).__init__()\n",
    "        c_ = int(c2 * e)  # hidden channels\n",
    "        self.cv1 = Conv(c1, c_, 1, 1)\n",
    "        self.cv2 = Conv(c_, c2, 3, 1, g=g)\n",
    "        self.add = shortcut and c1 == c2\n",
    "\n",
    "    def forward(self, x):\n",
    "        return x + self.cv2(self.cv1(x)) if self.add else self.cv2(self.cv1(x))\n",
    "\n",
    "class BottleneckCSP(nn.Module):\n",
    "    # CSP Bottleneck https://github.com/WongKinYiu/CrossStagePartialNetworks\n",
    "    def __init__(self, c1, c2, n=1, shortcut=True, g=1, e=0.5):  # ch_in, ch_out, number, shortcut, groups, expansion\n",
    "        super(BottleneckCSP, self).__init__()\n",
    "        c_ = int(c2 * e)  # hidden channels\n",
    "        self.cv1 = Conv(c1, c_, 1, 1)\n",
    "        self.cv2 = nn.Conv2d(c1, c_, 1, 1, bias=False)\n",
    "        self.cv3 = nn.Conv2d(c_, c_, 1, 1, bias=False)\n",
    "        self.cv4 = Conv(2 * c_, c2, 1, 1)\n",
    "        self.bn = nn.BatchNorm2d(2 * c_)  # applied to cat(cv2, cv3)\n",
    "        self.act = nn.LeakyReLU(0.1, inplace=True)\n",
    "        self.m = nn.Sequential(*[Bottleneck(c_, c_, shortcut, g, e=1.0) for _ in range(n)])\n",
    "\n",
    "    def forward(self, x):\n",
    "        y1 = self.cv3(self.m(self.cv1(x)))\n",
    "        y2 = self.cv2(x)\n",
    "        return self.cv4(self.act(self.bn(torch.cat((y1, y2), dim=1))))"
   ]
  },
  {
   "cell_type": "markdown",
   "id": "2d5c09b8-56a0-4b8c-a41e-04f78bb67fbd",
   "metadata": {},
   "source": [
    "## YoloV5"
   ]
  },
  {
   "cell_type": "code",
   "execution_count": 3,
   "id": "83d563eb-cab6-4d7d-b2f5-a2d44cd8d554",
   "metadata": {},
   "outputs": [],
   "source": [
    "class C3(nn.Module):\n",
    "    # CSP Bottleneck with 3 convolutions\n",
    "    def __init__(self, c1, c2, n=1, shortcut=True, g=1, e=0.5):  # ch_in, ch_out, number, shortcut, groups, expansion\n",
    "        super().__init__()\n",
    "        c_ = int(c2 * e)  # hidden channels\n",
    "        self.cv1 = Conv(c1, c_, 1, 1)\n",
    "        self.cv2 = Conv(c1, c_, 1, 1)\n",
    "        self.cv3 = Conv(2 * c_, c2, 1)  # optional act=FReLU(c2)\n",
    "        self.m = nn.Sequential(*(Bottleneck(c_, c_, shortcut, g, e=1.0) for _ in range(n)))\n",
    "        # self.m = nn.Sequential(*(CrossConv(c_, c_, 3, 1, g, 1.0, shortcut) for _ in range(n)))\n",
    "\n",
    "    def forward(self, x):\n",
    "        return self.cv3(torch.cat((self.m(self.cv1(x)), self.cv2(x)), 1))"
   ]
  },
  {
   "cell_type": "markdown",
   "id": "c00dba15-c945-4727-a9dd-2fb821d0d423",
   "metadata": {},
   "source": [
    "## YoloV4-tiny"
   ]
  },
  {
   "cell_type": "code",
   "execution_count": 18,
   "id": "ad067481-c4ee-41f3-abc0-9864aa42da86",
   "metadata": {},
   "outputs": [],
   "source": [
    "class CSPTiny(nn.Module):\n",
    "    # CSP Bottleneck https://github.com/WongKinYiu/CrossStagePartialNetworks\n",
    "    def __init__(self, c1):  # ch_in, ch_out, number, shortcut, groups, expansion\n",
    "        super(CSPTiny, self).__init__()\n",
    "        self.cv1 = Conv(c1, c1, 3, 1, p = 1)\n",
    "        self.cv2 = Conv(c1, c1//2, 3, 1, p = 1)\n",
    "        self.cv3 = Conv(c1//2, c1//2, 3, 1, p = 1)\n",
    "        self.cv4 = Conv(c1, c1, 1, 1)\n",
    "\n",
    "    def forward(self, x):\n",
    "        y1 = self.cv1(x)\n",
    "        y2 = self.cv2(y1)\n",
    "        y3 = self.cv3(y2)\n",
    "        y3 = torch.cat([y2, y3], dim = 1)\n",
    "        y4 = self.cv4(y3)\n",
    "        x = torch.cat([y1, y4], dim = 1)\n",
    "        \n",
    "        return x"
   ]
  },
  {
   "cell_type": "code",
   "execution_count": 37,
   "id": "603071ca-5d6e-4c71-9c2b-6c4c44a6a6d1",
   "metadata": {},
   "outputs": [],
   "source": [
    "class CSPTinyBottleneck(nn.Module):\n",
    "    # CSP Bottleneck https://github.com/WongKinYiu/CrossStagePartialNetworks\n",
    "    def __init__(self, c1):  # ch_in, ch_out, number, shortcut, groups, expansion\n",
    "        super(CSPTinyBottleneck, self).__init__()\n",
    "        self.cv1 = Bottleneck(c1, c1)\n",
    "        self.cv2 = Bottleneck(c1, c1//2)\n",
    "        self.cv3 = Bottleneck(c1//2, c1//2)\n",
    "        self.cv4 = Conv(c1, c1, 1, 1)\n",
    "\n",
    "    def forward(self, x):\n",
    "        y1 = self.cv1(x)\n",
    "        y2 = self.cv2(y1)\n",
    "        y3 = self.cv3(y2)\n",
    "        y3 = torch.cat([y2, y3], dim = 1)\n",
    "        y4 = self.cv4(y3)\n",
    "        x = torch.cat([y1, y4], dim = 1)\n",
    "        \n",
    "        return x"
   ]
  },
  {
   "cell_type": "code",
   "execution_count": 5,
   "id": "8ca9e7d7-1392-44c0-9b95-dc12804bf93c",
   "metadata": {},
   "outputs": [],
   "source": [
    "## Analysis"
   ]
  },
  {
   "cell_type": "code",
   "execution_count": 11,
   "id": "bcef9cf1-e8a9-4900-9580-4575687e7a9c",
   "metadata": {},
   "outputs": [],
   "source": [
    "from fvcore.nn import FlopCountAnalysis, flop_count_table"
   ]
  },
  {
   "cell_type": "code",
   "execution_count": 25,
   "id": "3b7e7084-2199-47f8-834e-00b5e32cb8d8",
   "metadata": {},
   "outputs": [],
   "source": [
    "inp = torch.rand(1, 64, 128, 128)"
   ]
  },
  {
   "cell_type": "code",
   "execution_count": 44,
   "id": "bdb3069e-8f22-4b16-8747-45dc1a0c07bf",
   "metadata": {},
   "outputs": [
    {
     "name": "stdout",
     "output_type": "stream",
     "text": [
      "| module   | #parameters or shape   | #flops   |\n",
      "|:---------|:-----------------------|:---------|\n",
      "| model    | 0.153M                 | 0.633G   |\n",
      "|  0       |  73.984K               |  0.305G  |\n",
      "|  1       |  78.72K                |  0.328G  |\n",
      "torch.Size([1, 128, 64, 64])\n"
     ]
    }
   ],
   "source": [
    "model = nn.Sequential(Conv(64, 128, 3, 2),BottleneckCSP(128, 128))\n",
    "flops = FlopCountAnalysis(model, inp)\n",
    "print(flop_count_table(flops, max_depth = 1))\n",
    "print(model(inp).size())"
   ]
  },
  {
   "cell_type": "code",
   "execution_count": 45,
   "id": "76aea59b-a62b-4796-b9c7-6251b38effea",
   "metadata": {},
   "outputs": [
    {
     "name": "stdout",
     "output_type": "stream",
     "text": [
      "Serving 'BottleneckCSP.onnx' at http://localhost:8081\n"
     ]
    },
    {
     "data": {
      "text/plain": [
       "('localhost', 8081)"
      ]
     },
     "execution_count": 45,
     "metadata": {},
     "output_type": "execute_result"
    }
   ],
   "source": [
    "torch.onnx.export(model, inp, \"BottleneckCSP.onnx\")\n",
    "netron.start('BottleneckCSP.onnx')"
   ]
  },
  {
   "cell_type": "code",
   "execution_count": 46,
   "id": "47fa4cc1-19af-43ff-95b7-eaedec70d3e5",
   "metadata": {},
   "outputs": [
    {
     "name": "stdout",
     "output_type": "stream",
     "text": [
      "| module   | #parameters or shape   | #flops   |\n",
      "|:---------|:-----------------------|:---------|\n",
      "| model    | 0.148M                 | 0.614G   |\n",
      "|  0       |  73.984K               |  0.305G  |\n",
      "|  1       |  74.496K               |  0.31G   |\n",
      "torch.Size([1, 128, 64, 64])\n"
     ]
    }
   ],
   "source": [
    "model = nn.Sequential(Conv(64, 128, 3, 2), C3(128, 128))\n",
    "flops = FlopCountAnalysis(model, inp)\n",
    "print(flop_count_table(flops, max_depth = 1))\n",
    "print(model(inp).size())"
   ]
  },
  {
   "cell_type": "code",
   "execution_count": 47,
   "id": "6f59dba0-acd3-43fc-892f-2aa121d6c04d",
   "metadata": {},
   "outputs": [
    {
     "name": "stdout",
     "output_type": "stream",
     "text": [
      "Serving 'C3.onnx' at http://localhost:20340\n"
     ]
    },
    {
     "data": {
      "text/plain": [
       "('localhost', 20340)"
      ]
     },
     "execution_count": 47,
     "metadata": {},
     "output_type": "execute_result"
    }
   ],
   "source": [
    "torch.onnx.export(model, inp, \"C3.onnx\")\n",
    "netron.start('C3.onnx')"
   ]
  },
  {
   "cell_type": "code",
   "execution_count": 48,
   "id": "5f46b928-0165-41a9-8667-94a9058c47c6",
   "metadata": {},
   "outputs": [
    {
     "name": "stdout",
     "output_type": "stream",
     "text": [
      "| module   | #parameters or shape   | #flops   |\n",
      "|:---------|:-----------------------|:---------|\n",
      "| 0        | 68.992K                | 1.14G    |\n",
      "|  cv1     |  36.992K               |  0.609G  |\n",
      "|  cv2     |  18.496K               |  0.305G  |\n",
      "|  cv3     |  9.28K                 |  0.154G  |\n",
      "|  cv4     |  4.224K                |  72.352M |\n",
      "torch.Size([1, 128, 64, 64])\n"
     ]
    }
   ],
   "source": [
    "model = nn.Sequential(CSPTiny(64), nn.MaxPool2d(2))\n",
    "flops = FlopCountAnalysis(model, inp)\n",
    "print(flop_count_table(flops, max_depth = 1))\n",
    "print(model(inp).size())"
   ]
  },
  {
   "cell_type": "code",
   "execution_count": 49,
   "id": "2853efad-f88a-4648-8c4b-2dfde117bd22",
   "metadata": {},
   "outputs": [
    {
     "name": "stdout",
     "output_type": "stream",
     "text": [
      "Serving 'CSPTiny.onnx' at http://localhost:24126\n"
     ]
    },
    {
     "data": {
      "text/plain": [
       "('localhost', 24126)"
      ]
     },
     "execution_count": 49,
     "metadata": {},
     "output_type": "execute_result"
    }
   ],
   "source": [
    "torch.onnx.export(model, inp, \"CSPTiny.onnx\")\n",
    "netron.start('CSPTiny.onnx')"
   ]
  },
  {
   "cell_type": "code",
   "execution_count": 50,
   "id": "d7fd0a2d-3dae-4cb5-8068-5b1eb4404e6a",
   "metadata": {},
   "outputs": [
    {
     "name": "stdout",
     "output_type": "stream",
     "text": [
      "| module   | #parameters or shape   | #flops   |\n",
      "|:---------|:-----------------------|:---------|\n",
      "| 0        | 35.84K                 | 0.6G     |\n",
      "|  cv1     |  20.672K               |  0.343G  |\n",
      "|  cv2     |  5.728K                |  96.207M |\n",
      "|  cv3     |  5.216K                |  87.818M |\n",
      "|  cv4     |  4.224K                |  72.352M |\n",
      "torch.Size([1, 128, 64, 64])\n"
     ]
    }
   ],
   "source": [
    "model = nn.Sequential(CSPTinyBottleneck(64), nn.MaxPool2d(2))\n",
    "flops = FlopCountAnalysis(model, inp)\n",
    "print(flop_count_table(flops, max_depth = 1))\n",
    "print(model(inp).size())"
   ]
  },
  {
   "cell_type": "code",
   "execution_count": 51,
   "id": "6d4a17d7-cb88-4015-8218-33e698c3ef4f",
   "metadata": {},
   "outputs": [
    {
     "name": "stdout",
     "output_type": "stream",
     "text": [
      "Serving 'CSPTinyBottleneck.onnx' at http://localhost:23065\n"
     ]
    },
    {
     "data": {
      "text/plain": [
       "('localhost', 23065)"
      ]
     },
     "execution_count": 51,
     "metadata": {},
     "output_type": "execute_result"
    }
   ],
   "source": [
    "torch.onnx.export(model, inp, \"CSPTinyBottleneck.onnx\")\n",
    "netron.start('CSPTinyBottleneck.onnx')"
   ]
  },
  {
   "cell_type": "code",
   "execution_count": null,
   "id": "6f508275-3483-46d5-a5ea-ceec9de58f53",
   "metadata": {},
   "outputs": [],
   "source": []
  }
 ],
 "metadata": {
  "kernelspec": {
   "display_name": "base",
   "language": "python",
   "name": "base"
  },
  "language_info": {
   "codemirror_mode": {
    "name": "ipython",
    "version": 3
   },
   "file_extension": ".py",
   "mimetype": "text/x-python",
   "name": "python",
   "nbconvert_exporter": "python",
   "pygments_lexer": "ipython3",
   "version": "3.8.10"
  }
 },
 "nbformat": 4,
 "nbformat_minor": 5
}
